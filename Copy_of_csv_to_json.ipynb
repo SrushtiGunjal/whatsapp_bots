{
  "nbformat": 4,
  "nbformat_minor": 0,
  "metadata": {
    "colab": {
      "provenance": [],
      "include_colab_link": true
    },
    "kernelspec": {
      "name": "python3",
      "display_name": "Python 3"
    },
    "language_info": {
      "name": "python"
    }
  },
  "cells": [
    {
      "cell_type": "markdown",
      "metadata": {
        "id": "view-in-github",
        "colab_type": "text"
      },
      "source": [
        "<a href=\"https://colab.research.google.com/github/SrushtiGunjal/whatsapp_bots/blob/main/Copy_of_csv_to_json.ipynb\" target=\"_parent\"><img src=\"https://colab.research.google.com/assets/colab-badge.svg\" alt=\"Open In Colab\"/></a>"
      ]
    },
    {
      "cell_type": "code",
      "execution_count": null,
      "metadata": {
        "colab": {
          "base_uri": "https://localhost:8080/"
        },
        "id": "bPBXu8O30hnP",
        "outputId": "327a450a-cea1-4947-bafa-dd31acb90ed8"
      },
      "outputs": [
        {
          "output_type": "stream",
          "name": "stdout",
          "text": [
            "✅ JSON Lines file written as 'output.json'\n"
          ]
        }
      ],
      "source": [
        "import pandas as pd\n",
        "data = pd.read_csv(\"random_user_data.csv\")\n",
        "\n",
        "def csv_to_json(data,json_path):\n",
        "    import json\n",
        "\n",
        "    data_json = []\n",
        "    col = data.columns\n",
        "\n",
        "    for i in range(1, data.shape[0]):\n",
        "        value_json = {}\n",
        "        for j in range(data.shape[1]):\n",
        "            # Convert to native Python type using .item() if needed\n",
        "            value = data.iloc[i, j]\n",
        "            if hasattr(value, 'item'):  # check if it's a numpy type\n",
        "                value = value.item()\n",
        "            value_json[col[j]] = value\n",
        "        data_json.append(value_json)\n",
        "\n",
        "    with open(\"output.json\", \"w\") as f:\n",
        "        for item in data_json:\n",
        "            json.dump(item, f)\n",
        "            f.write('\\n')\n",
        "\n",
        "    print(\"✅ JSON Lines file written as 'output.json'\")\n",
        "\n",
        "\n",
        "z = csv_to_json(data,\"LLM_CHATBOT\")"
      ]
    }
  ]
}